{
  "nbformat": 4,
  "nbformat_minor": 0,
  "metadata": {
    "colab": {
      "name": "CapstoneProject.ipynb",
      "provenance": [],
      "private_outputs": true,
      "collapsed_sections": [],
      "authorship_tag": "ABX9TyOqEv7P4EjTJ2k3F+af9ZO9",
      "include_colab_link": true
    },
    "kernelspec": {
      "name": "python3",
      "display_name": "Python 3"
    }
  },
  "cells": [
    {
      "cell_type": "markdown",
      "metadata": {
        "id": "view-in-github",
        "colab_type": "text"
      },
      "source": [
        "<a href=\"https://colab.research.google.com/github/sunshineluyao/Fintech-and-AI-RMDS/blob/master/CapstoneProject/CapstoneProject.ipynb\" target=\"_parent\"><img src=\"https://colab.research.google.com/assets/colab-badge.svg\" alt=\"Open In Colab\"/></a>"
      ]
    },
    {
      "cell_type": "markdown",
      "metadata": {
        "id": "BAEYC5vRhJGr",
        "colab_type": "text"
      },
      "source": [
        "### This jupyter notebook is created for the [Fintech and AI course at RMDS Deep Dive](https://www.eventbrite.com/e/rmds-deep-dive-financial-technology-cryptocurrency-ai-tickets-109884403208#) \n",
        "**\"The Capstone Project: Stablecoins\"**\n"
      ]
    },
    {
      "cell_type": "markdown",
      "metadata": {
        "id": "Q3bID2vVjO_t",
        "colab_type": "text"
      },
      "source": [
        "**Step 1: Import Data and Data Wrangling**"
      ]
    },
    {
      "cell_type": "markdown",
      "metadata": {
        "id": "hYHqJIsImtzp",
        "colab_type": "text"
      },
      "source": [
        ""
      ]
    },
    {
      "cell_type": "code",
      "metadata": {
        "id": "tWZsyJFrf3A9",
        "colab_type": "code",
        "colab": {}
      },
      "source": [
        "### import packages\n",
        "import pandas as pd\n",
        "import numpy as np"
      ],
      "execution_count": null,
      "outputs": []
    },
    {
      "cell_type": "code",
      "metadata": {
        "id": "1aQyICG4jdkN",
        "colab_type": "code",
        "colab": {}
      },
      "source": [
        "### imort data from Github Repo\n",
        "### ! be sure to provide the raw link\n",
        "df_Tether=pd.read_csv(\"https://raw.githubusercontent.com/sunshineluyao/Fintech-and-AI-RMDS/master/CapstoneProject/Tether.csv\")\n",
        "df_Mark_mkr=pd.read_csv(\"https://raw.githubusercontent.com/sunshineluyao/Fintech-and-AI-RMDS/master/CapstoneProject/Mark_mkr.csv\")\n",
        "df_Mark_dai=pd.read_csv(\"https://raw.githubusercontent.com/sunshineluyao/Fintech-and-AI-RMDS/master/CapstoneProject/Mark_dai.csv\")\n",
        "df_Terra_luna=pd.read_csv(\"https://raw.githubusercontent.com/sunshineluyao/Fintech-and-AI-RMDS/master/CapstoneProject/Terra_luna.csv\")\n",
        "df_Terra_krt=pd.read_csv(\"https://raw.githubusercontent.com/sunshineluyao/Fintech-and-AI-RMDS/master/CapstoneProject/Terra_krt.csv\")\n",
        "df_Ampl=pd.read_csv(\"https://raw.githubusercontent.com/sunshineluyao/Fintech-and-AI-RMDS/master/CapstoneProject/Ampl.csv\")\n",
        "df_Tether.head()"
      ],
      "execution_count": null,
      "outputs": []
    },
    {
      "cell_type": "code",
      "metadata": {
        "id": "ZeqRLLbMj1Ou",
        "colab_type": "code",
        "colab": {}
      },
      "source": [
        "### View and Check Data Type\n",
        "df_Tether.info()"
      ],
      "execution_count": null,
      "outputs": []
    },
    {
      "cell_type": "code",
      "metadata": {
        "id": "A0M_VwrrMMh1",
        "colab_type": "code",
        "colab": {}
      },
      "source": [
        "df_Tether['Stablecoin']='Tether'\n",
        "df_Mark_mkr['Stablecoin']='Mark_mkr'\n",
        "df_Mark_dai['Stablecoin']='Mark_dai'\n",
        "df_Terra_luna['Stablecoin']='Terra_luna'\n",
        "df_Terra_krt['Stablecoin']='Terra_krt'\n",
        "df_Ampl['Stablecoin']='Ampl'\n",
        "df_Tether.head()"
      ],
      "execution_count": null,
      "outputs": []
    },
    {
      "cell_type": "code",
      "metadata": {
        "id": "vlDV5fpKGYd5",
        "colab_type": "code",
        "colab": {}
      },
      "source": [
        "df_Stablecoin=df_Tether.append([df_Mark_mkr, df_Mark_dai, df_Terra_luna, df_Terra_krt, df_Ampl], ignore_index=True)\n",
        "df_Stablecoin.head()"
      ],
      "execution_count": null,
      "outputs": []
    },
    {
      "cell_type": "code",
      "metadata": {
        "id": "IKuyymQZ6aFY",
        "colab_type": "code",
        "colab": {}
      },
      "source": [
        "df_Stablecoin_Recent=df_Tether.tail(200).append([ df_Mark_dai.tail(200), df_Ampl.tail(200)], ignore_index=True)\n",
        "df_Stablecoin_Recent.tail()"
      ],
      "execution_count": null,
      "outputs": []
    },
    {
      "cell_type": "markdown",
      "metadata": {
        "id": "HubCYldlmUwN",
        "colab_type": "text"
      },
      "source": [
        "**Step 3: Install Chart Studio and Import Packages**"
      ]
    },
    {
      "cell_type": "code",
      "metadata": {
        "id": "rm3w_L8umPkx",
        "colab_type": "code",
        "colab": {}
      },
      "source": [
        "### Install Chart Studio\n",
        "\n",
        "!pip install chart_studio"
      ],
      "execution_count": null,
      "outputs": []
    },
    {
      "cell_type": "markdown",
      "metadata": {
        "id": "pQxLvOWBBFOy",
        "colab_type": "text"
      },
      "source": [
        "Note: log into your Plotly chart studio and replace username and api_key with your own chart studio information. https://chart-studio.plotly.com/settings/api\n",
        "(Note: log into plotly chart studio; Go to settings; Go to API) \n",
        "\n",
        "Please Replace with your own username and api wherever it says \"replace here\""
      ]
    },
    {
      "cell_type": "code",
      "metadata": {
        "id": "L_3D4hmqx83C",
        "colab_type": "code",
        "colab": {}
      },
      "source": [
        "### Import Relevant Packages\n",
        "import plotly.express as px\n",
        "import chart_studio\n",
        "username = 'replace here'\n",
        "api_key = 'replace here'\n",
        "\n",
        "import chart_studio.plotly as py\n",
        "import chart_studio.tools as tls"
      ],
      "execution_count": null,
      "outputs": []
    },
    {
      "cell_type": "code",
      "metadata": {
        "id": "yCZt1JH72rER",
        "colab_type": "code",
        "colab": {}
      },
      "source": [
        "### View Plotly Themes\n",
        "import plotly.io as pio\n",
        "pio.templates ###https://plotly.com/python/templates/"
      ],
      "execution_count": null,
      "outputs": []
    },
    {
      "cell_type": "code",
      "metadata": {
        "id": "sOqu0Hk-yaSt",
        "colab_type": "code",
        "colab": {}
      },
      "source": [
        "### List all the columns\n",
        "df_Stablecoin.columns"
      ],
      "execution_count": null,
      "outputs": []
    },
    {
      "cell_type": "code",
      "metadata": {
        "id": "iNh5AgmKR_Az",
        "colab_type": "code",
        "colab": {}
      },
      "source": [
        "df_Stablecoin['snapped_at']=pd.to_datetime(df_Stablecoin['snapped_at'])\n",
        "df_Stablecoin_Recent['snapped_at']=pd.to_datetime(df_Stablecoin_Recent['snapped_at'])"
      ],
      "execution_count": null,
      "outputs": []
    },
    {
      "cell_type": "code",
      "metadata": {
        "id": "SMjDglZgSSCh",
        "colab_type": "code",
        "colab": {}
      },
      "source": [
        "df_Stablecoin.info()"
      ],
      "execution_count": null,
      "outputs": []
    },
    {
      "cell_type": "code",
      "metadata": {
        "id": "CHkJ8WkV3oM1",
        "colab_type": "code",
        "colab": {}
      },
      "source": [
        "import datetime as dt"
      ],
      "execution_count": null,
      "outputs": []
    },
    {
      "cell_type": "code",
      "metadata": {
        "id": "47bn3y603qru",
        "colab_type": "code",
        "colab": {}
      },
      "source": [
        "df_Stablecoin['snapped_at']=df_Stablecoin['snapped_at'].dt.strftime('%Y-%m-%d')\n",
        "df_Stablecoin_Recent['snapped_at']=df_Stablecoin_Recent['snapped_at'].dt.strftime('%Y-%m-%d')"
      ],
      "execution_count": null,
      "outputs": []
    },
    {
      "cell_type": "code",
      "metadata": {
        "id": "eCkkYbZay9g2",
        "colab_type": "code",
        "colab": {}
      },
      "source": [
        "###Line Plot \n",
        "fig_Price = px.line(df_Stablecoin, x=\"snapped_at\", y=\"price\", color=\"Stablecoin\", line_group=\"Stablecoin\", hover_name=\"Stablecoin\",\n",
        "         log_y=True, template='ggplot2')\n",
        "fig_Price.update_layout(\n",
        "                  title=\"Stablecoin Prices\", \n",
        "                  )\n",
        "fig_Price.update_xaxes(\n",
        "    rangeslider_visible=True,\n",
        "    rangeselector=dict(\n",
        "        buttons=list([\n",
        "            dict(step=\"all\"),\n",
        "            dict(count=1, label=\"1m\", step=\"month\", stepmode=\"backward\"),\n",
        "            dict(count=3, label=\"3m\", step=\"month\", stepmode=\"backward\"),\n",
        "            dict(count=1, label=\"1y\", step=\"year\", stepmode=\"backward\"),\n",
        "            dict(count=1, label=\"YTD\", step=\"year\", stepmode=\"todate\"),\n",
        "          \n",
        "        ])\n",
        "    )\n",
        ")\n",
        "fig_Price.show()"
      ],
      "execution_count": null,
      "outputs": []
    },
    {
      "cell_type": "code",
      "metadata": {
        "id": "qMPtw8WnUG86",
        "colab_type": "code",
        "colab": {}
      },
      "source": [
        "###Line plot\n",
        "fig_MarketCap = px.line(df_Stablecoin, x=\"snapped_at\", y=\"market_cap\", color=\"Stablecoin\", line_group=\"Stablecoin\", hover_name=\"Stablecoin\",\n",
        "      log_y=True, template='ggplot2')\n",
        "fig_MarketCap.update_layout(\n",
        "                  title=\"Stablecoin Market Cap\", \n",
        "                  )\n",
        "fig_MarketCap.update_xaxes(\n",
        "    rangeslider_visible=True,\n",
        "    rangeselector=dict(\n",
        "        buttons=list([\n",
        "            dict(step=\"all\"),\n",
        "            dict(count=1, label=\"1m\", step=\"month\", stepmode=\"backward\"),\n",
        "            dict(count=3, label=\"3m\", step=\"month\", stepmode=\"backward\"),\n",
        "            dict(count=1, label=\"1y\", step=\"year\", stepmode=\"backward\"),\n",
        "            dict(count=1, label=\"YTD\", step=\"year\", stepmode=\"todate\"),\n",
        "          \n",
        "        ])\n",
        "    )\n",
        ")\n",
        "fig_MarketCap.show()"
      ],
      "execution_count": null,
      "outputs": []
    },
    {
      "cell_type": "code",
      "metadata": {
        "id": "YFMzuJ6yWI8X",
        "colab_type": "code",
        "colab": {}
      },
      "source": [
        "###Line plot\n",
        "fig_Volume = px.line(df_Stablecoin, x=\"snapped_at\", y=\"total_volume\", color=\"Stablecoin\", line_group=\"Stablecoin\", hover_name=\"Stablecoin\",\n",
        "      log_y=True, template='ggplot2')\n",
        "fig_Volume.update_layout(\n",
        "                  title=\"Stablecoin Total Volume\", \n",
        "                  )\n",
        "fig_Volume.update_xaxes(\n",
        "    rangeslider_visible=True,\n",
        "    rangeselector=dict(\n",
        "        buttons=list([\n",
        "            dict(step=\"all\"),\n",
        "            dict(count=1, label=\"1m\", step=\"month\", stepmode=\"backward\"),\n",
        "            dict(count=3, label=\"3m\", step=\"month\", stepmode=\"backward\"),\n",
        "            dict(count=1, label=\"1y\", step=\"year\", stepmode=\"backward\"),\n",
        "            dict(count=1, label=\"YTD\", step=\"year\", stepmode=\"todate\"),\n",
        "          \n",
        "        ])\n",
        "    )\n",
        ")\n",
        "fig_Volume.show()"
      ],
      "execution_count": null,
      "outputs": []
    },
    {
      "cell_type": "code",
      "metadata": {
        "id": "pSRpcLao_9nL",
        "colab_type": "code",
        "colab": {}
      },
      "source": [
        "###Scatter Plot \n",
        "fig_Scattery = px.scatter(df_Stablecoin, x=\"total_volume\", y=\"price\", size='market_cap', color=\"Stablecoin\", hover_name=\"Stablecoin\",\n",
        "         log_y=True, log_x=True,marginal_y=\"box\",\n",
        "            template='plotly_white')\n",
        "fig_Scattery.update_layout(\n",
        "                  title=\"Stablecoin Characteristics\", \n",
        "                  )\n",
        "fig_Scattery.show()"
      ],
      "execution_count": null,
      "outputs": []
    },
    {
      "cell_type": "code",
      "metadata": {
        "id": "Ba8MBJLuZrg-",
        "colab_type": "code",
        "colab": {}
      },
      "source": [
        "###Scatter Plot \n",
        "fig_Scatterx = px.scatter(df_Stablecoin, x=\"total_volume\", y=\"price\", size='market_cap', color=\"Stablecoin\", hover_name=\"Stablecoin\",\n",
        "         log_y=True, log_x=True,\n",
        "           marginal_x=\"box\", trendline=\"ols\", template='plotly_white')\n",
        "fig_Scatterx.update_layout(\n",
        "                  title=\"Stablecoin Characteristics\", \n",
        "                  )\n",
        "fig_Scatterx.show()"
      ],
      "execution_count": null,
      "outputs": []
    },
    {
      "cell_type": "code",
      "metadata": {
        "id": "9SpkjqrHkix7",
        "colab_type": "code",
        "colab": {}
      },
      "source": [
        "df_Current = df_Stablecoin[df_Stablecoin['snapped_at']=='2020-08-19']\n",
        "df_Current"
      ],
      "execution_count": null,
      "outputs": []
    },
    {
      "cell_type": "code",
      "metadata": {
        "id": "xzMQz0gyeA2n",
        "colab_type": "code",
        "colab": {}
      },
      "source": [
        "###Bar plot Animation\n",
        "fig_bar = px.bar(df_Current, x=\"market_cap\", y=\"Stablecoin\", color=\"Stablecoin\", orientation='h',)\n",
        "fig_Scatter.update_layout(\n",
        "                  title=\"Stablecoin Market Cap Comparision on Aug 19, 2020\", \n",
        "                  )\n",
        "fig_bar.show()"
      ],
      "execution_count": null,
      "outputs": []
    },
    {
      "cell_type": "code",
      "metadata": {
        "id": "Mo8mJR6ocIje",
        "colab_type": "code",
        "colab": {}
      },
      "source": [
        "fig_barA = px.bar(df_Stablecoin_Recent,x=\"market_cap\", y=\"Stablecoin\",  color=\"Stablecoin\", animation_frame='snapped_at', log_x=True, orientation='h', animation_group='Stablecoin',\n",
        "           template='plotly_white')\n",
        "fig_barA.update_layout(\n",
        "                  title=\"Stablecoin Animations\", \n",
        "                  )\n",
        "fig_barA.show()"
      ],
      "execution_count": null,
      "outputs": []
    },
    {
      "cell_type": "markdown",
      "metadata": {
        "id": "N3Qgy_jA1ZFD",
        "colab_type": "text"
      },
      "source": [
        "**Step 4 Setting Credentials and Execute Pyplot**\n",
        "\n",
        "log into your Plotly chart studio and replace username and api_key with your own chart studio information. https://chart-studio.plotly.com/settings/api\n",
        "(Note: log into plotly chart studio; Go to settings; Go to API) \n",
        "\n",
        "*Please Replace with your own username and api wherever it says \"replace here\".*"
      ]
    },
    {
      "cell_type": "code",
      "metadata": {
        "id": "2KcGoe4V0yc1",
        "colab_type": "code",
        "colab": {}
      },
      "source": [
        "chart_studio.tools.set_credentials_file(username='replace here', api_key='replace here')"
      ],
      "execution_count": null,
      "outputs": []
    },
    {
      "cell_type": "code",
      "metadata": {
        "id": "z-LRg35D1on-",
        "colab_type": "code",
        "colab": {}
      },
      "source": [
        "py.plot(fig_Price,filename = 'Stablecoin Price',auto_open=False)"
      ],
      "execution_count": null,
      "outputs": []
    },
    {
      "cell_type": "code",
      "metadata": {
        "id": "wknBwTZ--ReK",
        "colab_type": "code",
        "colab": {}
      },
      "source": [
        "py.plot(fig_MarketCap,filename = 'Stablecoin Market Cap',auto_open=False)"
      ],
      "execution_count": null,
      "outputs": []
    },
    {
      "cell_type": "code",
      "metadata": {
        "id": "Vxx9-bMM-q7v",
        "colab_type": "code",
        "colab": {}
      },
      "source": [
        "py.plot(fig_Volume,filename = 'Stablecoin Volume',auto_open=False)"
      ],
      "execution_count": null,
      "outputs": []
    },
    {
      "cell_type": "code",
      "metadata": {
        "id": "V2L8Qft8-uet",
        "colab_type": "code",
        "colab": {}
      },
      "source": [
        "py.plot(fig_bar,filename = 'Stablecoin Bar Chart',auto_open=False)"
      ],
      "execution_count": null,
      "outputs": []
    },
    {
      "cell_type": "code",
      "metadata": {
        "id": "erck4414-zdQ",
        "colab_type": "code",
        "colab": {}
      },
      "source": [
        "py.plot(fig_barA,filename = 'Stablecoin Bar Chart Animation',auto_open=False)"
      ],
      "execution_count": null,
      "outputs": []
    },
    {
      "cell_type": "code",
      "metadata": {
        "id": "rcp5D-pPAPYE",
        "colab_type": "code",
        "colab": {}
      },
      "source": [
        "py.plot(fig_Scattery,filename = 'Stablecoin Scatterplot Y',auto_open=False)"
      ],
      "execution_count": null,
      "outputs": []
    },
    {
      "cell_type": "markdown",
      "metadata": {
        "id": "1Of_toQa6H3X",
        "colab_type": "text"
      },
      "source": [
        "**Step 5 Share your graph by url or embedding**\n",
        "\n",
        "\n",
        "https://plotly.com/chart-studio-help/embed-graphs-in-websites/"
      ]
    },
    {
      "cell_type": "code",
      "metadata": {
        "id": "_YMCWcrz-tjg",
        "colab_type": "code",
        "colab": {}
      },
      "source": [
        ""
      ],
      "execution_count": null,
      "outputs": []
    },
    {
      "cell_type": "code",
      "metadata": {
        "id": "OLdh0Hvf-dgE",
        "colab_type": "code",
        "colab": {}
      },
      "source": [
        ""
      ],
      "execution_count": null,
      "outputs": []
    }
  ]
}